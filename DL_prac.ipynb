{
 "cells": [
  {
   "cell_type": "code",
   "execution_count": 5,
   "id": "68ea67f6",
   "metadata": {},
   "outputs": [
    {
     "name": "stderr",
     "output_type": "stream",
     "text": [
      "Device set to use cpu\n",
      "Truncation was not explicitly activated but `max_length` is provided a specific value, please use `truncation=True` to explicitly truncate examples to max length. Defaulting to 'longest_first' truncation strategy. If you encode pairs of sequences (GLUE-style) with the tokenizer you can select this strategy more precisely by providing a specific strategy to `truncation`.\n",
      "Setting `pad_token_id` to `eos_token_id`:50256 for open-end generation.\n",
      "Both `max_new_tokens` (=256) and `max_length`(=200) seem to have been set. `max_new_tokens` will take precedence. Please refer to the documentation for more information. (https://huggingface.co/docs/transformers/main/en/main_classes/text_generation)\n"
     ]
    },
    {
     "name": "stdout",
     "output_type": "stream",
     "text": [
      "Kissing my gf feels like, \"I know. That was nice.\"\n",
      "\n",
      "I'm not sure if I was really paying attention, but I thought about it. I don't know who's doing it. I just thought I was going to say sorry instead. I just didn't believe it.\n",
      "\n",
      "I walked back to the car, and I took a deep breath. I'm glad I didn't think about that. The thought of being on the bus with my girlfriend was nice and normal, and that's what makes me feel bad about myself. I don't know if I was really making the decision to keep going.\n",
      "\n",
      "I got to the bus. I was really nervous. I was really upset. I was really nervous about how I felt. I was scared. I was really scared about how it was going to go.\n",
      "\n",
      "I took my clothes off, and I went to the bathroom. I had to get out of the car and go to the bathroom. I was just so nervous. I had never really been in this situation before. It's like, I just didn't know how safe it was. I was just so scared.\n",
      "\n",
      "I went to the bathroom. I was like, \"Wow, that was really scary.\" I was like, \"Why did\n"
     ]
    }
   ],
   "source": [
    "from transformers import pipeline\n",
    "\n",
    "generator = pipeline(\"text-generation\", model=\"gpt2\")\n",
    "\n",
    "result = generator(\"Kissing my gf feels like,\", max_length=200, num_return_sequences=1)\n",
    "\n",
    "print(result[0][\"generated_text\"])\n"
   ]
  },
  {
   "cell_type": "code",
   "execution_count": 2,
   "id": "e00b5dd5",
   "metadata": {},
   "outputs": [
    {
     "name": "stderr",
     "output_type": "stream",
     "text": [
      "Device set to use cpu\n"
     ]
    },
    {
     "name": "stdout",
     "output_type": "stream",
     "text": [
      "Text: I love learning Machine Learning with transformers!\n",
      "Label: POSITIVE, Score: 0.9994\n",
      "--------------------------------------------------\n",
      "Text: This project is really hard and frustrating.\n",
      "Label: NEGATIVE, Score: 0.9995\n",
      "--------------------------------------------------\n",
      "Text: I do not love my dog but hate cats and other animals\n",
      "Label: NEGATIVE, Score: 0.9900\n",
      "--------------------------------------------------\n"
     ]
    }
   ],
   "source": [
    "from transformers import pipeline\n",
    "\n",
    "# Load a pre-trained DistilBERT sentiment model\n",
    "classifier = pipeline(\"sentiment-analysis\", model=\"distilbert-base-uncased-finetuned-sst-2-english\")\n",
    "\n",
    "# Example sentences\n",
    "texts = [\n",
    "    \"I love learning Machine Learning with transformers!\",\n",
    "    \"This project is really hard and frustrating.\",\n",
    "    \"I do not love my dog but hate cats and other animals\",\n",
    "]\n",
    "\n",
    "# Predict sentiments\n",
    "results = classifier(texts)\n",
    "\n",
    "# Print results\n",
    "for text, result in zip(texts, results):\n",
    "    print(f\"Text: {text}\")\n",
    "    print(f\"Label: {result['label']}, Score: {result['score']:.4f}\")\n",
    "    print(\"-\" * 50)\n"
   ]
  },
  {
   "cell_type": "code",
   "execution_count": null,
   "id": "1d42c542",
   "metadata": {},
   "outputs": [],
   "source": []
  }
 ],
 "metadata": {
  "kernelspec": {
   "display_name": "Python 3",
   "language": "python",
   "name": "python3"
  },
  "language_info": {
   "codemirror_mode": {
    "name": "ipython",
    "version": 3
   },
   "file_extension": ".py",
   "mimetype": "text/x-python",
   "name": "python",
   "nbconvert_exporter": "python",
   "pygments_lexer": "ipython3",
   "version": "3.13.7"
  }
 },
 "nbformat": 4,
 "nbformat_minor": 5
}
