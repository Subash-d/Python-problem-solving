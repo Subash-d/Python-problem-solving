{
 "cells": [
  {
   "cell_type": "markdown",
   "id": "2d9521a5",
   "metadata": {},
   "source": [
    "Leetcode #3516"
   ]
  },
  {
   "cell_type": "code",
   "execution_count": 5,
   "id": "bd2d651f",
   "metadata": {},
   "outputs": [
    {
     "data": {
      "text/plain": [
       "0"
      ]
     },
     "execution_count": 5,
     "metadata": {},
     "output_type": "execute_result"
    }
   ],
   "source": [
    "class Solution:\n",
    "    def findClosest(self, x: int, y: int, z: int) -> int:\n",
    "        dif_xz = abs(x-z)\n",
    "        dif_yz = abs(y-z)\n",
    "        return 1 if dif_xz < dif_yz else 2 if dif_yz < dif_xz else 0 \n",
    "    \n",
    "solution = Solution()\n",
    "solution.findClosest(3,7,5)"
   ]
  },
  {
   "cell_type": "code",
   "execution_count": null,
   "id": "a50fe65e",
   "metadata": {},
   "outputs": [],
   "source": []
  }
 ],
 "metadata": {
  "kernelspec": {
   "display_name": "Python 3",
   "language": "python",
   "name": "python3"
  },
  "language_info": {
   "codemirror_mode": {
    "name": "ipython",
    "version": 3
   },
   "file_extension": ".py",
   "mimetype": "text/x-python",
   "name": "python",
   "nbconvert_exporter": "python",
   "pygments_lexer": "ipython3",
   "version": "3.13.7"
  }
 },
 "nbformat": 4,
 "nbformat_minor": 5
}
