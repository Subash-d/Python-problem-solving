{
 "cells": [
  {
   "cell_type": "markdown",
   "id": "2d9521a5",
   "metadata": {},
   "source": [
    "Leetcode #3516"
   ]
  },
  {
   "cell_type": "code",
   "execution_count": null,
   "id": "bd2d651f",
   "metadata": {},
   "outputs": [
    {
     "data": {
      "text/plain": [
       "0"
      ]
     },
     "execution_count": 5,
     "metadata": {},
     "output_type": "execute_result"
    }
   ],
   "source": [
    "class Solution:\n",
    "    def findClosest(self, x: int, y: int, z: int) -> int:\n",
    "        dif_xz = abs(x-z)\n",
    "        dif_yz = abs(y-z)\n",
    "        return 1 if dif_xz < dif_yz else 2 if dif_yz < dif_xz else 0 \n",
    "    \n",
    "solution = Solution()\n",
    "solution.findClosest(3,7,5)"
   ]
  },
  {
   "cell_type": "markdown",
   "id": "1655cfde",
   "metadata": {},
   "source": [
    "Is anagram"
   ]
  },
  {
   "cell_type": "code",
   "execution_count": null,
   "id": "b6f85f30",
   "metadata": {},
   "outputs": [
    {
     "data": {
      "text/plain": [
       "False"
      ]
     },
     "execution_count": 32,
     "metadata": {},
     "output_type": "execute_result"
    }
   ],
   "source": [
    "from collections import Counter\n",
    "def is_anagram(s: str, t: str):\n",
    "    ls = Counter(s)\n",
    "    lt = Counter(t)\n",
    "    return True if ls == lt else False\n",
    "    \n",
    "is_anagram(\"dog\", \"god\")\n",
    "    "
   ]
  },
  {
   "cell_type": "code",
   "execution_count": null,
   "id": "912de551",
   "metadata": {},
   "outputs": [],
   "source": [
    "from typing import List\n",
    "def max_ones(nums: List, k: int):\n",
    "    max_ones = 0\n",
    "    zeros = 0\n",
    "    l=0\n",
    "    for r in range(len(nums)):\n",
    "        while zeros > k:\n",
    "            if nums[l] ==0:\n",
    "                zeros -= 1\n",
    "            l += 1\n",
    "        if nums[r] == 0:\n",
    "            zeros += 1\n",
    "        max_ones = max(max_ones, r-l+1)\n",
    "    return max_ones\n"
   ]
  },
  {
   "cell_type": "code",
   "execution_count": null,
   "id": "496328ba",
   "metadata": {},
   "outputs": [],
   "source": [
    "class Solution:\n",
    "    def isSubsequence(self, s: str, t: str) -> bool:\n",
    "        i = 0\n",
    "        for j in t:\n",
    "            if i < len(s) and s[i] == j:\n",
    "                i += 1\n",
    "        return i == len(s)\n",
    "\n",
    "\n",
    "        "
   ]
  },
  {
   "cell_type": "code",
   "execution_count": null,
   "id": "a9ba97f1",
   "metadata": {},
   "outputs": [
    {
     "name": "stdout",
     "output_type": "stream",
     "text": [
      "Counter({'o': 3, 'd': 3, 'g': 2, 'n': 2, 'e': 2, 'i': 1, 'k': 1, 'j': 1})\n"
     ]
    },
    {
     "data": {
      "text/plain": [
       "2"
      ]
     },
     "execution_count": 23,
     "metadata": {},
     "output_type": "execute_result"
    }
   ],
   "source": [
    "from collections import Counter\n",
    "def non_rep(s: str):\n",
    "    counter = Counter(s)\n",
    "    print(counter)\n",
    "    for i in range(len(s)):\n",
    "        if counter[s[i]] == 1:\n",
    "            return i\n",
    "    return -1 \n",
    "\n",
    "non_rep('ggioodondenkejd')\n"
   ]
  },
  {
   "cell_type": "code",
   "execution_count": null,
   "id": "f246bee9",
   "metadata": {},
   "outputs": [
    {
     "data": {
      "text/plain": [
       "True"
      ]
     },
     "execution_count": 49,
     "metadata": {},
     "output_type": "execute_result"
    }
   ],
   "source": [
    "def valid_brackets(s: str):\n",
    "    pairs = {')':'(','}':'{',']':'['}\n",
    "    stack = []\n",
    "    for i in s:\n",
    "        if i in pairs.values():\n",
    "            stack.append(i)\n",
    "        elif i in pairs:\n",
    "            if not stack or stack[-1] != pairs[i]:\n",
    "                return False\n",
    "            stack.pop()\n",
    "    return True\n",
    "\n",
    "valid_brackets('[()]')\n"
   ]
  },
  {
   "cell_type": "code",
   "execution_count": 64,
   "id": "fa213ffc",
   "metadata": {},
   "outputs": [
    {
     "data": {
      "text/plain": [
       "True"
      ]
     },
     "execution_count": 64,
     "metadata": {},
     "output_type": "execute_result"
    }
   ],
   "source": [
    "import regex as re\n",
    "def isPalindrome(s: str) -> bool:\n",
    "    clean_s = re.findall(r'[a-zA-Z0-9]',s.lower())\n",
    "    return clean_s == clean_s[::-1]\n",
    "isPalindrome(\"o'si,Mad:am is o\")"
   ]
  },
  {
   "cell_type": "code",
   "execution_count": null,
   "id": "a9a870e4",
   "metadata": {},
   "outputs": [],
   "source": []
  }
 ],
 "metadata": {
  "kernelspec": {
   "display_name": "Python 3",
   "language": "python",
   "name": "python3"
  },
  "language_info": {
   "codemirror_mode": {
    "name": "ipython",
    "version": 3
   },
   "file_extension": ".py",
   "mimetype": "text/x-python",
   "name": "python",
   "nbconvert_exporter": "python",
   "pygments_lexer": "ipython3",
   "version": "3.13.7"
  }
 },
 "nbformat": 4,
 "nbformat_minor": 5
}
