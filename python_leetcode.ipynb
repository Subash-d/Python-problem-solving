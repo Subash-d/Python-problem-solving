{
 "cells": [
  {
   "cell_type": "markdown",
   "id": "2d9521a5",
   "metadata": {},
   "source": [
    "Leetcode #3516"
   ]
  },
  {
   "cell_type": "code",
   "execution_count": null,
   "id": "bd2d651f",
   "metadata": {},
   "outputs": [
    {
     "data": {
      "text/plain": [
       "0"
      ]
     },
     "execution_count": 5,
     "metadata": {},
     "output_type": "execute_result"
    }
   ],
   "source": [
    "class Solution:\n",
    "    def findClosest(self, x: int, y: int, z: int) -> int:\n",
    "        dif_xz = abs(x-z)\n",
    "        dif_yz = abs(y-z)\n",
    "        return 1 if dif_xz < dif_yz else 2 if dif_yz < dif_xz else 0 \n",
    "    \n",
    "solution = Solution()\n",
    "solution.findClosest(3,7,5)"
   ]
  },
  {
   "cell_type": "markdown",
   "id": "1655cfde",
   "metadata": {},
   "source": [
    "Is anagram"
   ]
  },
  {
   "cell_type": "code",
   "execution_count": null,
   "id": "b6f85f30",
   "metadata": {},
   "outputs": [
    {
     "data": {
      "text/plain": [
       "False"
      ]
     },
     "execution_count": 32,
     "metadata": {},
     "output_type": "execute_result"
    }
   ],
   "source": [
    "from collections import Counter\n",
    "def is_anagram(s: str, t: str):\n",
    "    ls = Counter(s)\n",
    "    lt = Counter(t)\n",
    "    return True if ls == lt else False\n",
    "    \n",
    "is_anagram(\"dog\", \"god\")\n",
    "    "
   ]
  },
  {
   "cell_type": "code",
   "execution_count": null,
   "id": "912de551",
   "metadata": {},
   "outputs": [],
   "source": [
    "from typing import List\n",
    "def max_ones(nums: List, k: int):\n",
    "    max_ones = 0\n",
    "    zeros = 0\n",
    "    l=0\n",
    "    for r in range(len(nums)):\n",
    "        while zeros > k:\n",
    "            if nums[l] ==0:\n",
    "                zeros -= 1\n",
    "            l += 1\n",
    "        if nums[r] == 0:\n",
    "            zeros += 1\n",
    "        max_ones = max(max_ones, r-l+1)\n",
    "    return max_ones\n"
   ]
  },
  {
   "cell_type": "code",
   "execution_count": null,
   "id": "496328ba",
   "metadata": {},
   "outputs": [],
   "source": [
    "class Solution:\n",
    "    def isSubsequence(self, s: str, t: str) -> bool:\n",
    "        i = 0\n",
    "        for j in t:\n",
    "            if i < len(s) and s[i] == j:\n",
    "                i += 1\n",
    "        return i == len(s)\n",
    "\n",
    "\n",
    "        "
   ]
  },
  {
   "cell_type": "code",
   "execution_count": null,
   "id": "a9ba97f1",
   "metadata": {},
   "outputs": [
    {
     "name": "stdout",
     "output_type": "stream",
     "text": [
      "Counter({'o': 3, 'd': 3, 'g': 2, 'n': 2, 'e': 2, 'i': 1, 'k': 1, 'j': 1})\n"
     ]
    },
    {
     "data": {
      "text/plain": [
       "2"
      ]
     },
     "execution_count": 23,
     "metadata": {},
     "output_type": "execute_result"
    }
   ],
   "source": [
    "from collections import Counter\n",
    "def non_rep(s: str):\n",
    "    counter = Counter(s)\n",
    "    print(counter)\n",
    "    for i in range(len(s)):\n",
    "        if counter[s[i]] == 1:\n",
    "            return i\n",
    "    return -1 \n",
    "\n",
    "non_rep('ggioodondenkejd')\n"
   ]
  },
  {
   "cell_type": "code",
   "execution_count": null,
   "id": "f246bee9",
   "metadata": {},
   "outputs": [
    {
     "data": {
      "text/plain": [
       "True"
      ]
     },
     "execution_count": 49,
     "metadata": {},
     "output_type": "execute_result"
    }
   ],
   "source": [
    "def valid_brackets(s: str):\n",
    "    pairs = {')':'(','}':'{',']':'['}\n",
    "    stack = []\n",
    "    for i in s:\n",
    "        if i in pairs.values():\n",
    "            stack.append(i)\n",
    "        elif i in pairs:\n",
    "            if not stack or stack[-1] != pairs[i]:\n",
    "                return False\n",
    "            stack.pop()\n",
    "    return True\n",
    "\n",
    "valid_brackets('[()]')\n"
   ]
  },
  {
   "cell_type": "code",
   "execution_count": 64,
   "id": "fa213ffc",
   "metadata": {},
   "outputs": [
    {
     "data": {
      "text/plain": [
       "True"
      ]
     },
     "execution_count": 64,
     "metadata": {},
     "output_type": "execute_result"
    }
   ],
   "source": [
    "import regex as re\n",
    "def isPalindrome(s: str) -> bool:\n",
    "    clean_s = re.findall(r'[a-zA-Z0-9]',s.lower())\n",
    "    return clean_s == clean_s[::-1]\n",
    "isPalindrome(\"o'si,Mad:am is o\")"
   ]
  },
  {
   "cell_type": "code",
   "execution_count": null,
   "id": "a9a870e4",
   "metadata": {},
   "outputs": [],
   "source": [
    "# Knight’s Tour with Backtracking\n",
    "N = 8  # chessboard size\n",
    "\n",
    "# All possible knight moves\n",
    "moves = [\n",
    "    (2, 1), (1, 2), (-1, 2), (-2, 1),\n",
    "    (-2, -1), (-1, -2), (1, -2), (2, -1)\n",
    "]\n",
    "\n",
    "def is_valid(x, y, board):\n",
    "    \"\"\"Check if (x, y) is inside board and not visited yet\"\"\"\n",
    "    return 0 <= x < N and 0 <= y < N and board[x][y] == -1\n",
    "\n",
    "def print_board(board):\n",
    "    \"\"\"Print the tour path\"\"\"\n",
    "    for row in board:\n",
    "        print(\" \".join(f\"{c:2}\" for c in row))\n",
    "    print()\n",
    "\n",
    "def solve_knight_tour():\n",
    "    # Initialize board with -1\n",
    "    board = [[-1 for _ in range(N)] for _ in range(N)]\n",
    "\n",
    "    # Start at (0,0) i.e., a1\n",
    "    board[0][0] = 0\n",
    "\n",
    "    # Start recursive search\n",
    "    if backtrack(0, 0, 1, board):\n",
    "        print(\"Closed Knight’s Tour Path Found:\")\n",
    "        print_board(board)\n",
    "    else:\n",
    "        print(\"No closed tour exists.\")\n",
    "\n",
    "def backtrack(x, y, step, board):\n",
    "    # Base case: visited all 64 squares\n",
    "    if step == N * N:\n",
    "        # Check if knight can return to start\n",
    "        for dx, dy in moves:\n",
    "            if x + dx == 0 and y + dy == 0:\n",
    "                return True\n",
    "        return False\n",
    "\n",
    "    # Try all moves\n",
    "    for dx, dy in moves:\n",
    "        nx, ny = x + dx, y + dy\n",
    "        if is_valid(nx, ny, board):\n",
    "            board[nx][ny] = step\n",
    "            if backtrack(nx, ny, step + 1, board):\n",
    "                return True\n",
    "            # Backtrack (undo move)\n",
    "            board[nx][ny] = -1\n",
    "    return False\n",
    "\n",
    "# Run the program\n",
    "solve_knight_tour()\n"
   ]
  },
  {
   "cell_type": "code",
   "execution_count": null,
   "id": "6e25714c",
   "metadata": {},
   "outputs": [
    {
     "name": "stdout",
     "output_type": "stream",
     "text": [
      "[1, 2, 5, 5, 6, 9, 11]\n",
      "[1, 2, 3, 4, 5, 6]\n",
      "[1, 2, 3, 4, 5, 6]\n",
      "[10]\n",
      "[-7, -3, -1, 0, 2, 4]\n"
     ]
    }
   ],
   "source": [
    "def m_sort(arr):\n",
    "    def merge_sort_inplace(left, right):\n",
    "        # Base case: if slice length <= 1\n",
    "        if right - left <= 1:\n",
    "            return\n",
    "        \n",
    "        mid = (left + right) // 2\n",
    "\n",
    "        # Sort left half and right half\n",
    "        merge_sort_inplace(left, mid)\n",
    "        merge_sort_inplace(mid, right)\n",
    "        \n",
    "        # Merge the two halves\n",
    "        i, j = left, mid\n",
    "        temp = []\n",
    "        \n",
    "        while i < mid and j < right:\n",
    "            if arr[i] <= arr[j]:\n",
    "                temp.append(arr[i])\n",
    "                i += 1\n",
    "            else:\n",
    "                temp.append(arr[j])\n",
    "                j += 1\n",
    "        \n",
    "        # Add remaining elements (if any)\n",
    "        temp.extend(arr[i:mid])\n",
    "        temp.extend(arr[j:right])\n",
    "        \n",
    "        # Write the sorted portion back to arr\n",
    "        arr[left:right] = temp\n",
    "\n",
    "    # Start recursion from entire range\n",
    "    merge_sort_inplace(0, len(arr))\n",
    "    return arr\n",
    "\n",
    "         \n",
    "\n",
    "test_cases = [\n",
    "    [5, 2, 9, 1, 11, 5, 6],        # normal unsorted with duplicates\n",
    "    [1, 2, 3, 4, 5, 6],        # already sorted\n",
    "    [6, 5, 4, 3, 2, 1],        # reverse sorted\n",
    "    [10],                      # single element\n",
    "    [-3, -1, -7, 4, 2, 0],     # mix of negative and positive\n",
    "]\n",
    "\n",
    "for indv_ls in test_cases:\n",
    "    print(m_sort(indv_ls))\n"
   ]
  },
  {
   "cell_type": "code",
   "execution_count": null,
   "id": "a252e84e",
   "metadata": {},
   "outputs": [
    {
     "name": "stdout",
     "output_type": "stream",
     "text": [
      "[0, 0, 1, 1, 2, 2]\n",
      "[0, 1, 2]\n",
      "[0]\n",
      "[1]\n",
      "[2]\n",
      "[0, 1, 2]\n",
      "[1, 9, 2, 11, 5, 6, 5]\n",
      "[1, 3, 4, 5, 6, 2]\n",
      "[1, 4, 3, 2, 5, 6]\n",
      "[10]\n",
      "[0, -7, 4, 2, -1, -3]\n"
     ]
    }
   ],
   "source": [
    "from typing import List\n",
    "def sortColors(nums: List[int]) -> None:\n",
    "    low, mid, high = 0, 0, len(nums) - 1\n",
    "    \n",
    "    while mid <= high:\n",
    "        if nums[mid] == 0:\n",
    "            nums[low], nums[mid] = nums[mid], nums[low]\n",
    "            low += 1\n",
    "            mid += 1\n",
    "        elif nums[mid] == 1:\n",
    "            mid += 1\n",
    "        else:  # nums[mid] == 2\n",
    "            nums[mid], nums[high] = nums[high], nums[mid]\n",
    "            high -= 1\n",
    "    return nums\n",
    "\n",
    "test = [[2,0,2,1,1,0],[2,0,1],[0],[1],[2],[1,2,0]]\n",
    "\n",
    "for i in test:\n",
    "    print(sortColors(i))"
   ]
  },
  {
   "cell_type": "code",
   "execution_count": null,
   "id": "c0948880",
   "metadata": {},
   "outputs": [],
   "source": []
  }
 ],
 "metadata": {
  "kernelspec": {
   "display_name": "Python 3",
   "language": "python",
   "name": "python3"
  },
  "language_info": {
   "codemirror_mode": {
    "name": "ipython",
    "version": 3
   },
   "file_extension": ".py",
   "mimetype": "text/x-python",
   "name": "python",
   "nbconvert_exporter": "python",
   "pygments_lexer": "ipython3",
   "version": "3.13.7"
  }
 },
 "nbformat": 4,
 "nbformat_minor": 5
}
