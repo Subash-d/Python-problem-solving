{
 "cells": [
  {
   "cell_type": "markdown",
   "id": "fc6d9027",
   "metadata": {},
   "source": [
    "Pair of sum of six"
   ]
  },
  {
   "cell_type": "code",
   "execution_count": 2,
   "id": "7596b137",
   "metadata": {},
   "outputs": [
    {
     "name": "stdout",
     "output_type": "stream",
     "text": [
      "[(4, 2), (7, -1), (0, 6), (1, 5), (-1, 7), (3, 3), (2, 4), (5, 1), (6, 0)]\n"
     ]
    }
   ],
   "source": [
    "ans = []\n",
    "a = [4,7,0,1,-1,8,3,2,5,6]\n",
    "for i in range(len(a)):\n",
    "    for j in range( len(a)):\n",
    "        \n",
    "        if a[i] +a[j] == 6:\n",
    "            ans.append((a[i],a[j]))\n",
    "print(ans)"
   ]
  },
  {
   "cell_type": "markdown",
   "id": "efb73baf",
   "metadata": {},
   "source": [
    "Amstrong number"
   ]
  },
  {
   "cell_type": "code",
   "execution_count": 14,
   "id": "884d4f23",
   "metadata": {},
   "outputs": [
    {
     "name": "stdout",
     "output_type": "stream",
     "text": [
      "345 is not an amstrong number\n"
     ]
    }
   ],
   "source": [
    "num = int(input(\"Enter a number: \"))\n",
    "str_num = str(num)\n",
    "pow = len(str_num)\n",
    "ams_sum = sum([int(n)**pow for n in str_num])\n",
    "if num == ams_sum:\n",
    "    print(f'{num} is amstrong number')\n",
    "else:\n",
    "    print(f'{num} is not an amstrong number')"
   ]
  },
  {
   "cell_type": "markdown",
   "id": "5a4f4a07",
   "metadata": {},
   "source": [
    "Pair of sum of six"
   ]
  },
  {
   "cell_type": "code",
   "execution_count": 3,
   "id": "cf4714e3",
   "metadata": {},
   "outputs": [
    {
     "name": "stdout",
     "output_type": "stream",
     "text": [
      "[(1, 5), (-1, 7), (0, 6), (2, 4)]\n"
     ]
    }
   ],
   "source": [
    "arr = [1,-1,3,0,6,7,5,2,4,-7]  # 9 Elements in list\n",
    "ans = []\n",
    "for i in range(len(arr)):\n",
    "    for j in range(i+1, len(arr)):\n",
    "        if arr[i]+ arr[j] == 6:\n",
    "            ans.append((arr[i],arr[j]))\n",
    "print(ans)"
   ]
  },
  {
   "cell_type": "code",
   "execution_count": null,
   "id": "1c7a752f",
   "metadata": {},
   "outputs": [],
   "source": []
  },
  {
   "cell_type": "code",
   "execution_count": null,
   "id": "fc7ecb92",
   "metadata": {},
   "outputs": [],
   "source": []
  }
 ],
 "metadata": {
  "kernelspec": {
   "display_name": "Python 3",
   "language": "python",
   "name": "python3"
  },
  "language_info": {
   "codemirror_mode": {
    "name": "ipython",
    "version": 3
   },
   "file_extension": ".py",
   "mimetype": "text/x-python",
   "name": "python",
   "nbconvert_exporter": "python",
   "pygments_lexer": "ipython3",
   "version": "3.13.5"
  }
 },
 "nbformat": 4,
 "nbformat_minor": 5
}
