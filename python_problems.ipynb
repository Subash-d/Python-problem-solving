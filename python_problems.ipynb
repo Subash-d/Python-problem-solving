{
 "cells": [
  {
   "cell_type": "markdown",
   "id": "fc6d9027",
   "metadata": {},
   "source": [
    "Pair of sum of six"
   ]
  },
  {
   "cell_type": "code",
   "execution_count": 2,
   "id": "7596b137",
   "metadata": {},
   "outputs": [
    {
     "name": "stdout",
     "output_type": "stream",
     "text": [
      "[(4, 2), (7, -1), (0, 6), (1, 5), (-1, 7), (3, 3), (2, 4), (5, 1), (6, 0)]\n"
     ]
    }
   ],
   "source": [
    "ans = []\n",
    "a = [4,7,0,1,-1,8,3,2,5,6]\n",
    "for i in range(len(a)):\n",
    "    for j in range( len(a)):\n",
    "        \n",
    "        if a[i] +a[j] == 6:\n",
    "            ans.append((a[i],a[j]))\n",
    "print(ans)"
   ]
  },
  {
   "cell_type": "markdown",
   "id": "efb73baf",
   "metadata": {},
   "source": [
    "Amstrong number"
   ]
  },
  {
   "cell_type": "code",
   "execution_count": 14,
   "id": "884d4f23",
   "metadata": {},
   "outputs": [
    {
     "name": "stdout",
     "output_type": "stream",
     "text": [
      "345 is not an amstrong number\n"
     ]
    }
   ],
   "source": [
    "num = int(input(\"Enter a number: \"))\n",
    "str_num = str(num)\n",
    "pow = len(str_num)\n",
    "ams_sum = sum([int(n)**pow for n in str_num])\n",
    "if num == ams_sum:\n",
    "    print(f'{num} is amstrong number')\n",
    "else:\n",
    "    print(f'{num} is not an amstrong number')"
   ]
  },
  {
   "cell_type": "markdown",
   "id": "5a4f4a07",
   "metadata": {},
   "source": [
    "Pair of sum of six"
   ]
  },
  {
   "cell_type": "code",
   "execution_count": 3,
   "id": "cf4714e3",
   "metadata": {},
   "outputs": [
    {
     "name": "stdout",
     "output_type": "stream",
     "text": [
      "[(1, 5), (-1, 7), (0, 6), (2, 4)]\n"
     ]
    }
   ],
   "source": [
    "arr = [1,-1,3,0,6,7,5,2,4,-7]  # 9 Elements in list\n",
    "ans = []\n",
    "for i in range(len(arr)):\n",
    "    for j in range(i+1, len(arr)):\n",
    "        if arr[i]+ arr[j] == 6:\n",
    "            ans.append((arr[i],arr[j]))\n",
    "print(ans)"
   ]
  },
  {
   "cell_type": "markdown",
   "id": "2b7d264e",
   "metadata": {},
   "source": [
    "Vowel count"
   ]
  },
  {
   "cell_type": "code",
   "execution_count": 49,
   "id": "6ad109e5",
   "metadata": {},
   "outputs": [
    {
     "name": "stdout",
     "output_type": "stream",
     "text": [
      "Yes it contains all the vowels\n",
      "{'o': 1, 'u': 1, 'a': 1, 'i': 1, 'e': 1}\n"
     ]
    }
   ],
   "source": [
    "def vowel_count(sentence):\n",
    "    vowel = 'aeiou'\n",
    "    v_set = {}\n",
    "    count = 0\n",
    "    for w in sentence.lower():\n",
    "        if w in vowel:\n",
    "            v_set[w] = v_set.get(w,count)+1\n",
    "    return v_set\n",
    "vowel_count('Gowtham is our great leader')\n",
    "\n",
    "def vowel_check(text):\n",
    "    vow = set('aeiou')\n",
    "    letter = set(text.lower())\n",
    "    if vow.issubset(letter):\n",
    "        return 'Yes it contains all the vowels'\n",
    "    else:\n",
    "        return 'No it does not contain all the vowels'\n",
    "\n",
    "print(vowel_check('fountain pen'))\n",
    "print(vowel_count('fountain pen'))"
   ]
  },
  {
   "cell_type": "markdown",
   "id": "2a996a15",
   "metadata": {},
   "source": [
    "Removing duplicates from the list"
   ]
  },
  {
   "cell_type": "code",
   "execution_count": 1,
   "id": "f4a23108",
   "metadata": {},
   "outputs": [
    {
     "data": {
      "text/plain": [
       "[1, 2, 3, 5, 4, 6, 66, 44, 7, 8, 88]"
      ]
     },
     "execution_count": 1,
     "metadata": {},
     "output_type": "execute_result"
    }
   ],
   "source": [
    "def dup(list):\n",
    "    sample_arr = []\n",
    "    for i in list:\n",
    "        if i not in sample_arr:\n",
    "            sample_arr.append(i)\n",
    "    return sample_arr\n",
    "dup([1,2,1,3,5,4,6,66,5,3,44,5,7,8,88])"
   ]
  },
  {
   "cell_type": "markdown",
   "id": "687b3d33",
   "metadata": {},
   "source": [
    "Count of an element"
   ]
  },
  {
   "cell_type": "code",
   "execution_count": 21,
   "id": "fc7ecb92",
   "metadata": {},
   "outputs": [
    {
     "data": {
      "text/plain": [
       "{1: 2, 2: 3, 44: 2, 3: 2, 9: 3, 6: 2}"
      ]
     },
     "execution_count": 21,
     "metadata": {},
     "output_type": "execute_result"
    }
   ],
   "source": [
    "def dup_count(nums):\n",
    "    dum = {}\n",
    "    for i in nums:\n",
    "        dum[i] = dum.get(i,0)+1\n",
    "    return {k:v for k,v in dum.items() if v>1}\n",
    "\n",
    "dup_count([1,2,44,3,4,9,9,1,6,2,6,2,8,44,3,9])"
   ]
  },
  {
   "cell_type": "markdown",
   "id": "d6126adc",
   "metadata": {},
   "source": [
    "Highest frequency of an element"
   ]
  },
  {
   "cell_type": "code",
   "execution_count": null,
   "id": "e6a69cb3",
   "metadata": {},
   "outputs": [
    {
     "data": {
      "text/plain": [
       "([2, 9], 3)"
      ]
     },
     "execution_count": 27,
     "metadata": {},
     "output_type": "execute_result"
    }
   ],
   "source": [
    "from collections import Counter\n",
    "\n",
    "def dupps(lisst):\n",
    "    counter = Counter(lisst)\n",
    "\n",
    "    moded = max(counter.values())\n",
    "\n",
    "    return[k for k,v in counter.items() if v == moded], moded\n",
    "\n",
    "dupps([1,2,44,3,4,9,9,1,6,2,6,2,8,44,3,9])"
   ]
  },
  {
   "cell_type": "code",
   "execution_count": null,
   "id": "c5a1c5fe",
   "metadata": {},
   "outputs": [],
   "source": []
  }
 ],
 "metadata": {
  "kernelspec": {
   "display_name": "Python 3",
   "language": "python",
   "name": "python3"
  },
  "language_info": {
   "codemirror_mode": {
    "name": "ipython",
    "version": 3
   },
   "file_extension": ".py",
   "mimetype": "text/x-python",
   "name": "python",
   "nbconvert_exporter": "python",
   "pygments_lexer": "ipython3",
   "version": "3.13.5"
  }
 },
 "nbformat": 4,
 "nbformat_minor": 5
}
