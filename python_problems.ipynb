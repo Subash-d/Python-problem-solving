{
 "cells": [
  {
   "cell_type": "markdown",
   "id": "fc6d9027",
   "metadata": {},
   "source": [
    "Pair of sum of six"
   ]
  },
  {
   "cell_type": "code",
   "execution_count": 13,
   "id": "7596b137",
   "metadata": {},
   "outputs": [
    {
     "name": "stdout",
     "output_type": "stream",
     "text": [
      "[(4, 2), (7, -1), (0, 6), (1, 5), (-1, 7), (3, 3), (2, 4), (5, 1), (6, 0)]\n"
     ]
    }
   ],
   "source": [
    "ans = []\n",
    "a = [4,7,0,1,-1,8,3,2,5,6]\n",
    "for i in range(len(a)):\n",
    "    for j in range( len(a)):\n",
    "        \n",
    "        if a[i] +a[j] == 6:\n",
    "            ans.append((a[i],a[j]))\n",
    "print(ans)"
   ]
  },
  {
   "cell_type": "markdown",
   "id": "efb73baf",
   "metadata": {},
   "source": [
    "Amstrong number"
   ]
  },
  {
   "cell_type": "code",
   "execution_count": 14,
   "id": "884d4f23",
   "metadata": {},
   "outputs": [
    {
     "ename": "ValueError",
     "evalue": "invalid literal for int() with base 10: ''",
     "output_type": "error",
     "traceback": [
      "\u001b[31m---------------------------------------------------------------------------\u001b[39m",
      "\u001b[31mValueError\u001b[39m                                Traceback (most recent call last)",
      "\u001b[36mCell\u001b[39m\u001b[36m \u001b[39m\u001b[32mIn[14]\u001b[39m\u001b[32m, line 1\u001b[39m\n\u001b[32m----> \u001b[39m\u001b[32m1\u001b[39m num = \u001b[38;5;28;43mint\u001b[39;49m\u001b[43m(\u001b[49m\u001b[38;5;28;43minput\u001b[39;49m\u001b[43m(\u001b[49m\u001b[33;43m\"\u001b[39;49m\u001b[33;43mEnter a number: \u001b[39;49m\u001b[33;43m\"\u001b[39;49m\u001b[43m)\u001b[49m\u001b[43m)\u001b[49m\n\u001b[32m      2\u001b[39m str_num = \u001b[38;5;28mstr\u001b[39m(num)\n\u001b[32m      3\u001b[39m \u001b[38;5;28mpow\u001b[39m = \u001b[38;5;28mlen\u001b[39m(str_num)\n",
      "\u001b[31mValueError\u001b[39m: invalid literal for int() with base 10: ''"
     ]
    }
   ],
   "source": [
    "num = int(input(\"Enter a number: \"))\n",
    "str_num = str(num)\n",
    "pow = len(str_num)\n",
    "ams_sum = sum([int(n)**pow for n in str_num])\n",
    "if num == ams_sum:\n",
    "    print(f'{num} is amstrong number')\n",
    "else:\n",
    "    print(f'{num} is not an amstrong number')"
   ]
  },
  {
   "cell_type": "markdown",
   "id": "5a4f4a07",
   "metadata": {},
   "source": [
    "Pair of sum of six"
   ]
  },
  {
   "cell_type": "code",
   "execution_count": null,
   "id": "cf4714e3",
   "metadata": {},
   "outputs": [
    {
     "name": "stdout",
     "output_type": "stream",
     "text": [
      "[(1, 5), (-1, 7), (0, 6), (2, 4)]\n"
     ]
    }
   ],
   "source": [
    "arr = [1,-1,3,0,6,7,5,2,4,-7]  # 9 Elements in list\n",
    "ans = []\n",
    "for i in range(len(arr)):\n",
    "    for j in range(i+1, len(arr)):\n",
    "        if arr[i]+ arr[j] == 6:\n",
    "            ans.append((arr[i],arr[j]))\n",
    "print(ans)"
   ]
  },
  {
   "cell_type": "markdown",
   "id": "2b7d264e",
   "metadata": {},
   "source": [
    "Vowel count"
   ]
  },
  {
   "cell_type": "code",
   "execution_count": null,
   "id": "6ad109e5",
   "metadata": {},
   "outputs": [
    {
     "name": "stdout",
     "output_type": "stream",
     "text": [
      "Yes it contains all the vowels\n",
      "{'o': 1, 'u': 1, 'a': 1, 'i': 1, 'e': 1}\n"
     ]
    }
   ],
   "source": [
    "def vowel_count(sentence):\n",
    "    vowel = 'aeiou'\n",
    "    v_set = {}\n",
    "    count = 0\n",
    "    for w in sentence.lower():\n",
    "        if w in vowel:\n",
    "            v_set[w] = v_set.get(w,count)+1\n",
    "    return v_set\n",
    "vowel_count('Gowtham is our great leader')\n",
    "\n",
    "def vowel_check(text):\n",
    "    vow = set('aeiou')\n",
    "    letter = set(text.lower())\n",
    "    if vow.issubset(letter):\n",
    "        return 'Yes it contains all the vowels'\n",
    "    else:\n",
    "        return 'No it does not contain all the vowels'\n",
    "\n",
    "print(vowel_check('fountain pen'))\n",
    "print(vowel_count('fountain pen'))"
   ]
  },
  {
   "cell_type": "markdown",
   "id": "2a996a15",
   "metadata": {},
   "source": [
    "Removing duplicates from the list"
   ]
  },
  {
   "cell_type": "code",
   "execution_count": null,
   "id": "f4a23108",
   "metadata": {},
   "outputs": [
    {
     "data": {
      "text/plain": [
       "[1, 2, 3, 5, 4, 6, 66, 44, 7, 8, 88]"
      ]
     },
     "execution_count": 1,
     "metadata": {},
     "output_type": "execute_result"
    }
   ],
   "source": [
    "def dup(list):\n",
    "    sample_arr = []\n",
    "    for i in list:\n",
    "        if i not in sample_arr:\n",
    "            sample_arr.append(i)\n",
    "    return sample_arr\n",
    "dup([1,2,1,3,5,4,6,66,5,3,44,5,7,8,88])"
   ]
  },
  {
   "cell_type": "markdown",
   "id": "687b3d33",
   "metadata": {},
   "source": [
    "Count of an element"
   ]
  },
  {
   "cell_type": "code",
   "execution_count": null,
   "id": "fc7ecb92",
   "metadata": {},
   "outputs": [
    {
     "data": {
      "text/plain": [
       "{1: 2, 2: 3, 44: 2, 3: 2, 9: 3, 6: 2}"
      ]
     },
     "execution_count": 21,
     "metadata": {},
     "output_type": "execute_result"
    }
   ],
   "source": [
    "def dup_count(nums):\n",
    "    dum = {}\n",
    "    for i in nums:\n",
    "        dum[i] = dum.get(i,0)+1\n",
    "    return {k:v for k,v in dum.items() if v>1}\n",
    "\n",
    "dup_count([1,2,44,3,4,9,9,1,6,2,6,2,8,44,3,9])"
   ]
  },
  {
   "cell_type": "markdown",
   "id": "d6126adc",
   "metadata": {},
   "source": [
    "Highest frequency of an element"
   ]
  },
  {
   "cell_type": "code",
   "execution_count": null,
   "id": "e6a69cb3",
   "metadata": {},
   "outputs": [
    {
     "data": {
      "text/plain": [
       "([2, 9], 3)"
      ]
     },
     "execution_count": 27,
     "metadata": {},
     "output_type": "execute_result"
    }
   ],
   "source": [
    "from collections import Counter\n",
    "\n",
    "def dupps(lisst):\n",
    "    counter = Counter(lisst)\n",
    "\n",
    "    moded = max(counter.values())\n",
    "\n",
    "    return[k for k,v in counter.items() if v == moded], moded\n",
    "\n",
    "dupps([1,2,44,3,4,9,9,1,6,2,6,2,8,44,3,9])"
   ]
  },
  {
   "cell_type": "markdown",
   "id": "2779cb54",
   "metadata": {},
   "source": [
    "Factorial of a number with recursion"
   ]
  },
  {
   "cell_type": "code",
   "execution_count": null,
   "id": "c5a1c5fe",
   "metadata": {},
   "outputs": [
    {
     "data": {
      "text/plain": [
       "120"
      ]
     },
     "execution_count": 23,
     "metadata": {},
     "output_type": "execute_result"
    }
   ],
   "source": [
    "def fact(num):\n",
    "    if num == 1:\n",
    "        return 1\n",
    "    else:\n",
    "        return num*fact(num-1)\n",
    "fact(5)"
   ]
  },
  {
   "cell_type": "markdown",
   "id": "c09737df",
   "metadata": {},
   "source": [
    "Factorial of a number without recursion"
   ]
  },
  {
   "cell_type": "code",
   "execution_count": null,
   "id": "11f6dc74",
   "metadata": {},
   "outputs": [
    {
     "data": {
      "text/plain": [
       "120"
      ]
     },
     "execution_count": 25,
     "metadata": {},
     "output_type": "execute_result"
    }
   ],
   "source": [
    "def factorial(num):\n",
    "    a = 1\n",
    "    for i in range(1,num+1):\n",
    "        a *= i\n",
    "    return a\n",
    "factorial(5)"
   ]
  },
  {
   "cell_type": "markdown",
   "id": "6614f029",
   "metadata": {},
   "source": [
    "Sum of all digits"
   ]
  },
  {
   "cell_type": "code",
   "execution_count": null,
   "id": "a4ed714b",
   "metadata": {},
   "outputs": [
    {
     "data": {
      "text/plain": [
       "6"
      ]
     },
     "execution_count": 11,
     "metadata": {},
     "output_type": "execute_result"
    }
   ],
   "source": [
    "def soad(digits):\n",
    "    indv_dig = []\n",
    "    for d in str(digits):\n",
    "        indv_dig.append(int(d))\n",
    "    return sum(indv_dig)\n",
    "\n",
    "soad(123)\n",
    "        "
   ]
  },
  {
   "cell_type": "markdown",
   "id": "3367433c",
   "metadata": {},
   "source": [
    "Sum of all digits using recurrsion"
   ]
  },
  {
   "cell_type": "code",
   "execution_count": null,
   "id": "db4af7d5",
   "metadata": {},
   "outputs": [
    {
     "data": {
      "text/plain": [
       "18"
      ]
     },
     "execution_count": 13,
     "metadata": {},
     "output_type": "execute_result"
    }
   ],
   "source": [
    "def soad_rec(num):\n",
    "    if num == 0:\n",
    "        return 1                          # num % 10 -> gives the last number of digit\n",
    "    else:                                 # num // 10 -> removes last digit from the list\n",
    "        return num % 10 + soad(num//10)\n",
    "soad(567)"
   ]
  },
  {
   "cell_type": "markdown",
   "id": "44c99725",
   "metadata": {},
   "source": [
    "Reversing a string"
   ]
  },
  {
   "cell_type": "code",
   "execution_count": null,
   "id": "b49aa082",
   "metadata": {},
   "outputs": [
    {
     "data": {
      "text/plain": [
       "'olleH'"
      ]
     },
     "execution_count": 43,
     "metadata": {},
     "output_type": "execute_result"
    }
   ],
   "source": [
    "def rev_str(txt):\n",
    "    emp_ls = []\n",
    "    for i in txt:\n",
    "        emp_ls.insert(0,i)\n",
    "    return(''.join(emp_ls))\n",
    "rev_str('Hello')"
   ]
  },
  {
   "cell_type": "markdown",
   "id": "036b0cd6",
   "metadata": {},
   "source": [
    "Reversing a sting using recurssion"
   ]
  },
  {
   "cell_type": "code",
   "execution_count": null,
   "id": "c640a8f7",
   "metadata": {},
   "outputs": [
    {
     "data": {
      "text/plain": [
       "'hsabus'"
      ]
     },
     "execution_count": 51,
     "metadata": {},
     "output_type": "execute_result"
    }
   ],
   "source": [
    "def rev_str_rec(txt):\n",
    "    if len(txt) == 0:\n",
    "        return ''\n",
    "    else:\n",
    "        return rev_str_rec(txt[1:]) + txt[0]\n",
    "rev_str_rec('subash')"
   ]
  },
  {
   "cell_type": "markdown",
   "id": "67463503",
   "metadata": {},
   "source": [
    "Printing n numbers using recurssion"
   ]
  },
  {
   "cell_type": "code",
   "execution_count": null,
   "id": "a942bcd2",
   "metadata": {},
   "outputs": [
    {
     "name": "stdout",
     "output_type": "stream",
     "text": [
      "[20, 19, 18, 17, 16, 15, 14, 13, 12, 11, 10, 9, 8, 7, 6, 5, 4, 3, 2, 1]\n"
     ]
    }
   ],
   "source": [
    "def n_numbers(n):\n",
    "    if n == 1:\n",
    "        return [1]\n",
    "    else:\n",
    "        return [n] + n_numbers(n-1)\n",
    "print(n_numbers(20))\n",
    "\n"
   ]
  },
  {
   "cell_type": "markdown",
   "id": "4afcd972",
   "metadata": {},
   "source": [
    "count of specific digit using recurrsion"
   ]
  },
  {
   "cell_type": "code",
   "execution_count": null,
   "id": "eec82e64",
   "metadata": {},
   "outputs": [
    {
     "data": {
      "text/plain": [
       "3"
      ]
     },
     "execution_count": 97,
     "metadata": {},
     "output_type": "execute_result"
    }
   ],
   "source": [
    "def n_num(m, n):\n",
    "\n",
    "    if m == 0:\n",
    "        return 0\n",
    "    else:\n",
    "        count = 0\n",
    "        if m%10 == n:\n",
    "            count+=1\n",
    "    return count + n_num(m//10, n)\n",
    "n_num(546462562, 6)"
   ]
  },
  {
   "cell_type": "markdown",
   "id": "c36963e3",
   "metadata": {},
   "source": [
    "Write a program to reverse a string using recursion."
   ]
  },
  {
   "cell_type": "code",
   "execution_count": null,
   "id": "867f367b",
   "metadata": {},
   "outputs": [
    {
     "data": {
      "text/plain": [
       "'dlrow olleH'"
      ]
     },
     "execution_count": 3,
     "metadata": {},
     "output_type": "execute_result"
    }
   ],
   "source": [
    "def str_rev(text):\n",
    "    if len(text) == 0:\n",
    "        return text\n",
    "    else:\n",
    "        return str_rev(text[1:]) + text[0]\n",
    "    \n",
    "str_rev('Hello world')"
   ]
  },
  {
   "cell_type": "markdown",
   "id": "fbca84b9",
   "metadata": {},
   "source": [
    "Write a function to check if a string is a palindrome.\n"
   ]
  },
  {
   "cell_type": "code",
   "execution_count": null,
   "id": "0b1ac760",
   "metadata": {},
   "outputs": [
    {
     "data": {
      "text/plain": [
       "'Yes it is palindrome'"
      ]
     },
     "execution_count": 6,
     "metadata": {},
     "output_type": "execute_result"
    }
   ],
   "source": [
    "def is_palindrome(text):\n",
    "    if text == text.lower()[::-1]:\n",
    "        return 'Yes it is palindrome'\n",
    "    return 'No, it is not a palindrome'\n",
    "is_palindrome('malayalam')"
   ]
  },
  {
   "cell_type": "markdown",
   "id": "f20fbb19",
   "metadata": {},
   "source": [
    "Write a function to check if a string is a palindrome (another method).\n"
   ]
  },
  {
   "cell_type": "code",
   "execution_count": null,
   "id": "dff709ab",
   "metadata": {},
   "outputs": [
    {
     "data": {
      "text/plain": [
       "('Malayalam', 'malayalaM', 'Yes, it is palindrome')"
      ]
     },
     "execution_count": 10,
     "metadata": {},
     "output_type": "execute_result"
    }
   ],
   "source": [
    "def is_palin(text):\n",
    "    text_rev =  []\n",
    "    [text_rev.insert(0,word) for word in text]\n",
    "    text_reversed = ''.join(text_rev)\n",
    "    if text.lower() == text_reversed.lower():\n",
    "        return text,text_reversed,\"Yes, it is palindrome\"\n",
    "    return text,text_reversed,\"No, it is not a palindrome\"\n",
    "is_palin('Malayalam')\n"
   ]
  },
  {
   "cell_type": "markdown",
   "id": "3fea7b83",
   "metadata": {},
   "source": [
    "\n",
    "Find the factorial of a number using both recursion and iteration.\n"
   ]
  },
  {
   "cell_type": "code",
   "execution_count": null,
   "id": "f6330104",
   "metadata": {},
   "outputs": [
    {
     "data": {
      "text/plain": [
       "120"
      ]
     },
     "execution_count": 11,
     "metadata": {},
     "output_type": "execute_result"
    }
   ],
   "source": [
    "def fact_rec(num):\n",
    "    if num == 1:\n",
    "        return num\n",
    "    return num*fact_rec(num-1)\n",
    "fact_rec(5)"
   ]
  },
  {
   "cell_type": "code",
   "execution_count": null,
   "id": "1629e197",
   "metadata": {},
   "outputs": [
    {
     "data": {
      "text/plain": [
       "120"
      ]
     },
     "execution_count": 57,
     "metadata": {},
     "output_type": "execute_result"
    }
   ],
   "source": [
    "def fact_itr(num):\n",
    "    ans = 1\n",
    "    for i in range(1,num+1):\n",
    "        ans*=i\n",
    "    return ans\n",
    "fact_itr(5)\n",
    "    "
   ]
  },
  {
   "cell_type": "markdown",
   "id": "9032c5ab",
   "metadata": {},
   "source": [
    "Write a function to find the n number of Fibonacci number"
   ]
  },
  {
   "cell_type": "code",
   "execution_count": null,
   "id": "68b7b4de",
   "metadata": {},
   "outputs": [
    {
     "data": {
      "text/plain": [
       "[0, 1, 1, 2, 3, 5]"
      ]
     },
     "execution_count": 12,
     "metadata": {},
     "output_type": "execute_result"
    }
   ],
   "source": [
    "def fibonacci(num):\n",
    "    fibo = [0,1]\n",
    "    for _ in range(2,num):\n",
    "        fibo.append(fibo[-1]+fibo[-2])\n",
    "    return fibo\n",
    "fibonacci(6)"
   ]
  },
  {
   "cell_type": "markdown",
   "id": "ac3789ef",
   "metadata": {},
   "source": [
    "Write a function to find the nth Fibonacci number using recussion"
   ]
  },
  {
   "cell_type": "code",
   "execution_count": null,
   "id": "01fe1687",
   "metadata": {},
   "outputs": [
    {
     "data": {
      "text/plain": [
       "5"
      ]
     },
     "execution_count": 11,
     "metadata": {},
     "output_type": "execute_result"
    }
   ],
   "source": [
    "def fib_rec(num):\n",
    "    if num==0:\n",
    "        return 0\n",
    "    if num ==1:\n",
    "        return 1\n",
    "    return fib_rec(num -1) + fib_rec( num-2)\n",
    "fib_rec(5)"
   ]
  },
  {
   "cell_type": "markdown",
   "id": "524187ab",
   "metadata": {},
   "source": [
    "Write a function to find the nth Fibonacci number using recussion (memoization)"
   ]
  },
  {
   "cell_type": "code",
   "execution_count": null,
   "id": "5de24114",
   "metadata": {},
   "outputs": [
    {
     "data": {
      "text/plain": [
       "55"
      ]
     },
     "execution_count": 20,
     "metadata": {},
     "output_type": "execute_result"
    }
   ],
   "source": [
    "def fib_memo(num, memo={}):\n",
    "    if num in memo:\n",
    "        return memo\n",
    "    if num ==0:\n",
    "        return 0\n",
    "    elif num ==1:\n",
    "        return 1\n",
    "    else:\n",
    "        memo = fib_memo(num -1) + fib_memo(num-2)\n",
    "        return memo\n",
    "fib_memo(10)"
   ]
  },
  {
   "cell_type": "markdown",
   "id": "ceacad35",
   "metadata": {},
   "source": [
    "Sum of digits of factorial"
   ]
  },
  {
   "cell_type": "code",
   "execution_count": null,
   "id": "0394db07",
   "metadata": {},
   "outputs": [
    {
     "data": {
      "text/plain": [
       "(3628800, 27)"
      ]
     },
     "execution_count": 72,
     "metadata": {},
     "output_type": "execute_result"
    }
   ],
   "source": [
    "def sum_of_digit_of_factorial(n):\n",
    "    fact_val_n = fact_itr(n)\n",
    "    return fact_val_n, sum(int(i) for i in str(fact_val_n))\n",
    "\n",
    "sum_of_digit_of_factorial(10)"
   ]
  },
  {
   "cell_type": "markdown",
   "id": "a776666d",
   "metadata": {},
   "source": [
    "To check If a number is factorial or not"
   ]
  },
  {
   "cell_type": "code",
   "execution_count": null,
   "id": "b6987406",
   "metadata": {},
   "outputs": [
    {
     "data": {
      "text/plain": [
       "\"It's not a factorial\""
      ]
     },
     "execution_count": 82,
     "metadata": {},
     "output_type": "execute_result"
    }
   ],
   "source": [
    "def check_fact(n):\n",
    "    i = 2\n",
    "    while n > 1:\n",
    "        if n % i != 0:\n",
    "            return \"It's not a factorial\" \n",
    "        n=n//i\n",
    "        i+=1\n",
    "    return \"It's factorial\"\n",
    "\n",
    "check_fact(100)"
   ]
  },
  {
   "cell_type": "markdown",
   "id": "38fabb74",
   "metadata": {},
   "source": [
    "2nd largest number in the  list\n"
   ]
  },
  {
   "cell_type": "code",
   "execution_count": null,
   "id": "0dcb06c3",
   "metadata": {},
   "outputs": [
    {
     "data": {
      "text/plain": [
       "93"
      ]
     },
     "execution_count": 7,
     "metadata": {},
     "output_type": "execute_result"
    }
   ],
   "source": [
    "def _2nd_larget_num (*n):\n",
    "    sorted_ls = sorted(set(n))\n",
    "    return sorted_ls[-2]\n",
    "_2nd_larget_num(2,6,4,5,87,32,87,23,9,23,90,922,76,922,922, 93,3,21)"
   ]
  },
  {
   "cell_type": "markdown",
   "id": "75242837",
   "metadata": {},
   "source": [
    "Given a list, remove all duplicates and return a sorted list.\n"
   ]
  },
  {
   "cell_type": "code",
   "execution_count": null,
   "id": "6221166f",
   "metadata": {},
   "outputs": [
    {
     "data": {
      "text/plain": [
       "[1, 2, 4, 12, 23, 32, 34, 43, 54, 65, 67, 76, 98, 332]"
      ]
     },
     "execution_count": 3,
     "metadata": {},
     "output_type": "execute_result"
    }
   ],
   "source": [
    "def rds(ls):\n",
    "    return sorted(set(ls))\n",
    "\n",
    "rds([12,23,4,4,1,2,34,65,98,32,67,43,332,32,32,1,32,54,65,76,12,2])"
   ]
  },
  {
   "cell_type": "markdown",
   "id": "2b21b943",
   "metadata": {},
   "source": [
    "Merge Sort"
   ]
  },
  {
   "cell_type": "code",
   "execution_count": null,
   "id": "5d134a9e",
   "metadata": {},
   "outputs": [
    {
     "name": "stdout",
     "output_type": "stream",
     "text": [
      "[1, 2, 5, 5, 6, 9, 11]\n",
      "[1, 2, 3, 4, 5, 6]\n",
      "[1, 2, 3, 4, 5, 6]\n",
      "[10]\n",
      "[-7, -3, -1, 0, 2, 4]\n"
     ]
    }
   ],
   "source": [
    "def merge_sort(arr):\n",
    "    if len(arr) <= 1:\n",
    "        return arr\n",
    "    mid = len(arr)//2\n",
    "    left = merge_sort(arr[:mid])\n",
    "    right = merge_sort(arr[mid:])\n",
    "    return merge_2_sorted_list(left,right)\n",
    "\n",
    "\n",
    "\n",
    "def merge_2_sorted_list(a,b):\n",
    "    i,j = 0,0\n",
    "    sorted_list = []\n",
    "    while i < len(a) and j < len(b):\n",
    "        if a[i] <= b[j]:\n",
    "            sorted_list.append(a[i])\n",
    "            i+=1\n",
    "        else:\n",
    "            sorted_list.append(b[j])\n",
    "            j+=1\n",
    "    sorted_list.extend(a[i:])\n",
    "    sorted_list.extend(b[j:])\n",
    "    return sorted_list\n",
    "\n",
    "test_cases = [\n",
    "    [5, 2, 9, 1, 11, 5, 6],        # normal unsorted with duplicates\n",
    "    [1, 2, 3, 4, 5, 6],        # already sorted\n",
    "    [6, 5, 4, 3, 2, 1],        # reverse sorted\n",
    "    [10],                      # single element\n",
    "    [-3, -1, -7, 4, 2, 0],     # mix of negative and positive\n",
    "]\n",
    "\n",
    "for indv_ls in test_cases:\n",
    "    print(merge_sort(indv_ls))"
   ]
  },
  {
   "cell_type": "markdown",
   "id": "b0e62e5f",
   "metadata": {},
   "source": [
    "To check weather the array is sorted"
   ]
  },
  {
   "cell_type": "code",
   "execution_count": null,
   "id": "82c9d934",
   "metadata": {},
   "outputs": [
    {
     "name": "stdout",
     "output_type": "stream",
     "text": [
      "[5, 2, 9, 1, 11, 5, 6] --> False\n",
      "[1, 2, 3, 4, 5, 6] --> True\n",
      "[6, 5, 4, 3, 2, 1] --> False\n",
      "[10] --> True\n",
      "[-3, -1, -7, 4, 2, 0] --> False\n"
     ]
    }
   ],
   "source": [
    "def is_sort(arr):\n",
    "    for i in range(len(arr)-1):\n",
    "        if arr[i]> arr[i+1]:\n",
    "            return False\n",
    "    return True\n",
    "    \n",
    "test_cases = [\n",
    "    [5, 2, 9, 1, 11, 5, 6],       \n",
    "    [1, 2, 3, 4, 5, 6],        \n",
    "    [6, 5, 4, 3, 2, 1],      \n",
    "    [10],                      \n",
    "    [-3, -1, -7, 4, 2, 0],     \n",
    "]\n",
    "\n",
    "for indv_ls in test_cases:\n",
    "    print(indv_ls,'-->',is_sort(indv_ls))"
   ]
  },
  {
   "cell_type": "code",
   "execution_count": null,
   "id": "30d75818",
   "metadata": {},
   "outputs": [
    {
     "data": {
      "text/plain": [
       "[0, 1]"
      ]
     },
     "execution_count": 34,
     "metadata": {},
     "output_type": "execute_result"
    }
   ],
   "source": [
    "def two_sum(arr, target):\n",
    "    for i in range(len(arr)):\n",
    "        for j in range (1, len(arr)):\n",
    "            if arr[i] +arr[j] == target:\n",
    "                return [i,j]\n",
    "\n",
    "two_sum([2,7,11,15],9)"
   ]
  },
  {
   "cell_type": "markdown",
   "id": "f89e70de",
   "metadata": {},
   "source": [
    "Find the missing number from 1 to n"
   ]
  },
  {
   "cell_type": "code",
   "execution_count": null,
   "id": "9475501f",
   "metadata": {},
   "outputs": [
    {
     "data": {
      "text/plain": [
       "[5, 8, 10, 11]"
      ]
     },
     "execution_count": 10,
     "metadata": {},
     "output_type": "execute_result"
    }
   ],
   "source": [
    "def find_missing_num(n):\n",
    "    ans = []\n",
    "    for i in range(1,max(n)+1):\n",
    "        if i not in n:\n",
    "            ans.append(i) \n",
    "    return ans\n",
    "            \n",
    "        \n",
    "find_missing_num([1,2,3,4,6,7,9,12])"
   ]
  },
  {
   "cell_type": "markdown",
   "id": "fded6827",
   "metadata": {},
   "source": [
    "Find the missing number (Exactly 1 number) from 1 to n "
   ]
  },
  {
   "cell_type": "code",
   "execution_count": null,
   "id": "6e4aa138",
   "metadata": {},
   "outputs": [
    {
     "data": {
      "text/plain": [
       "6"
      ]
     },
     "execution_count": 15,
     "metadata": {},
     "output_type": "execute_result"
    }
   ],
   "source": [
    "def find_missing_n(ls):\n",
    "    n = max(ls)\n",
    "    expected_sum = n*(n+1)//2\n",
    "    return expected_sum - sum(ls) \n",
    "find_missing_n([1,2,3,4,5,7,8,9])\n"
   ]
  },
  {
   "cell_type": "markdown",
   "id": "09859518",
   "metadata": {},
   "source": [
    "Find the missing number from 1 to n"
   ]
  },
  {
   "cell_type": "code",
   "execution_count": null,
   "id": "68ee66c2",
   "metadata": {},
   "outputs": [
    {
     "data": {
      "text/plain": [
       "[2, 6]"
      ]
     },
     "execution_count": 25,
     "metadata": {},
     "output_type": "execute_result"
    }
   ],
   "source": [
    "def multi_miss(n):\n",
    "    return [i for i in range(min(n),max(n)+1) if i not in n]\n",
    "multi_miss([1,3,4,5,7,8,9])"
   ]
  },
  {
   "cell_type": "markdown",
   "id": "ac8b9e17",
   "metadata": {},
   "source": [
    "Is subsequence"
   ]
  },
  {
   "cell_type": "code",
   "execution_count": null,
   "id": "fda077ae",
   "metadata": {},
   "outputs": [
    {
     "data": {
      "text/plain": [
       "True"
      ]
     },
     "execution_count": 33,
     "metadata": {},
     "output_type": "execute_result"
    }
   ],
   "source": [
    "def is_subsequence(s,t):\n",
    "    i = j = 0\n",
    "    while i < len(s) and j < len(t):\n",
    "        if s[i] == t[j]:\n",
    "            i+=1\n",
    "        j+=1\n",
    "    return i== len(s)\n",
    "                  \n",
    "is_subsequence('ir', 'ziro')"
   ]
  },
  {
   "cell_type": "markdown",
   "id": "4f09ed4c",
   "metadata": {},
   "source": [
    "Is subsequence with recursion"
   ]
  },
  {
   "cell_type": "code",
   "execution_count": null,
   "id": "e568943a",
   "metadata": {},
   "outputs": [
    {
     "data": {
      "text/plain": [
       "True"
      ]
     },
     "execution_count": 41,
     "metadata": {},
     "output_type": "execute_result"
    }
   ],
   "source": [
    "def is_subsequence1(s, t):\n",
    "    if len(s) == 0:\n",
    "        return True\n",
    "    if len(t) == 0:\n",
    "        return False\n",
    "    if s[0] == t[0]:\n",
    "        return is_subsequence1(s[1:], t[1:])\n",
    "    else:\n",
    "        return is_subsequence1(s,t[1:])\n",
    "    \n",
    "is_subsequence1('ig', 'instagram')"
   ]
  },
  {
   "cell_type": "markdown",
   "id": "4ce53736",
   "metadata": {},
   "source": [
    "Is substring"
   ]
  },
  {
   "cell_type": "code",
   "execution_count": null,
   "id": "c538749e",
   "metadata": {},
   "outputs": [
    {
     "data": {
      "text/plain": [
       "True"
      ]
     },
     "execution_count": 9,
     "metadata": {},
     "output_type": "execute_result"
    }
   ],
   "source": [
    "def is_substring(s,t):  #'s' is substring to check in 't' string\n",
    "    return s in t\n",
    "\n",
    "is_substring('am', 'Gowtham')\n"
   ]
  },
  {
   "cell_type": "markdown",
   "id": "8ccd05fb",
   "metadata": {},
   "source": [
    "Is  substring..."
   ]
  },
  {
   "cell_type": "code",
   "execution_count": null,
   "id": "3282b7dc",
   "metadata": {},
   "outputs": [
    {
     "data": {
      "text/plain": [
       "True"
      ]
     },
     "execution_count": 19,
     "metadata": {},
     "output_type": "execute_result"
    }
   ],
   "source": [
    "def is_substring1(s,t):\n",
    "    i = j = 0\n",
    "    while len(s)> i and len(t)> j:\n",
    "        if s[i] == t[j]:\n",
    "            i+=1\n",
    "        else:\n",
    "            i = 0\n",
    "        j+=1\n",
    "    return len(s) == i \n",
    "is_substring1('tu', 'tumbler')\n"
   ]
  },
  {
   "cell_type": "code",
   "execution_count": null,
   "id": "e7d58c1a",
   "metadata": {},
   "outputs": [
    {
     "data": {
      "text/plain": [
       "[7, 0, 8]"
      ]
     },
     "execution_count": 22,
     "metadata": {},
     "output_type": "execute_result"
    }
   ],
   "source": [
    "def sum_linked_list(a,b):\n",
    "    ans = []\n",
    "    reversed_a = reversed_ls_to_str(a)\n",
    "    reversed_b = reversed_ls_to_str(b)\n",
    "    added = (int(reversed_a) + int(reversed_b))\n",
    "    for i in str(added):\n",
    "        ans.insert(0, int(i))\n",
    "    return ans\n",
    "\n",
    "\n",
    "\n",
    "def reversed_ls_to_str(a)-> list:\n",
    "    ra=[]\n",
    "    for i in a:\n",
    "        ra.insert(0,str(i))\n",
    "    return \"\".join(ra)\n",
    "\n",
    "sum_linked_list([2,4,3], [5,6,4])"
   ]
  },
  {
   "cell_type": "code",
   "execution_count": null,
   "id": "52f2b897",
   "metadata": {},
   "outputs": [
    {
     "name": "stdout",
     "output_type": "stream",
     "text": [
      "7 → 0 → 8\n"
     ]
    }
   ],
   "source": [
    "class ListNode:\n",
    "    def __init__(self, val=0, next=None):\n",
    "        self.val = val\n",
    "        self.next = next\n",
    "\n",
    "class Solution:\n",
    "    def addTwoNumbers(self, l1: ListNode, l2: ListNode) -> ListNode:\n",
    "        dummy = current = ListNode()\n",
    "        carry = 0\n",
    "\n",
    "        while l1 or l2 or carry:\n",
    "            v1 = l1.val if l1 else 0\n",
    "            v2 = l2.val if l2 else 0\n",
    "\n",
    "            carry, digit = divmod(v1 + v2 + carry, 10)\n",
    "\n",
    "            current.next = ListNode(digit)\n",
    "            current = current.next\n",
    "\n",
    "            l1 = l1.next if l1 else None\n",
    "            l2 = l2.next if l2 else None\n",
    "\n",
    "        return dummy.next\n",
    "\n",
    "# Helper to print linked list\n",
    "def print_linked_list(node):\n",
    "    while node:\n",
    "        print(node.val, end=\" → \" if node.next else \"\")\n",
    "        node = node.next\n",
    "    print()\n",
    "\n",
    "# Example usage:\n",
    "l1 = ListNode(2, ListNode(4, ListNode(3)))   # 342\n",
    "l2 = ListNode(5, ListNode(6, ListNode(4)))   # 465\n",
    "\n",
    "solution = Solution()\n",
    "result = solution.addTwoNumbers(l1, l2)\n",
    "\n",
    "print_linked_list(result)\n"
   ]
  },
  {
   "cell_type": "markdown",
   "id": "a5d3b273",
   "metadata": {},
   "source": [
    "To find a longest common prefix"
   ]
  },
  {
   "cell_type": "code",
   "execution_count": null,
   "id": "183ad2e0",
   "metadata": {},
   "outputs": [
    {
     "name": "stdout",
     "output_type": "stream",
     "text": [
      "gowtham\n"
     ]
    },
    {
     "data": {
      "text/plain": [
       "'go'"
      ]
     },
     "execution_count": 54,
     "metadata": {},
     "output_type": "execute_result"
    }
   ],
   "source": [
    "def common_prefix_finder(word1, word2):\n",
    "    prefix = \"\"\n",
    "    for x in range(min(len(word1), len(word2))):\n",
    "        if word1[x] == word2[x]:\n",
    "            prefix+=word1[x]\n",
    "        else:\n",
    "            break\n",
    "    return(prefix)\n",
    "class Solution:\n",
    "    def longestCommonPrefix(self, strs):\n",
    "        prefix = strs[0]\n",
    "        for k in strs[1:]:\n",
    "            prefix = common_prefix_finder(prefix, k)\n",
    "        return prefix\n",
    "        \n",
    "\n",
    "\n",
    "solution = Solution()\n",
    "solution.longestCommonPrefix(['gowtham', 'gommala', 'god'])\n"
   ]
  },
  {
   "cell_type": "markdown",
   "id": "bbf82996",
   "metadata": {},
   "source": [
    "Longest common prefix"
   ]
  },
  {
   "cell_type": "code",
   "execution_count": null,
   "id": "f18063fa",
   "metadata": {},
   "outputs": [
    {
     "data": {
      "text/plain": [
       "'go'"
      ]
     },
     "execution_count": 56,
     "metadata": {},
     "output_type": "execute_result"
    }
   ],
   "source": [
    "class Solution:\n",
    "    def longestCommonPrefix(self, strs):\n",
    "        strs.sort()\n",
    "        first, last = strs[0], strs[-1]\n",
    "        prefix = \"\"\n",
    "        for i in range(min(len(first), len(last))):\n",
    "            if first[i] == last[i]:\n",
    "                prefix += first[i]\n",
    "            else:\n",
    "                break\n",
    "        return prefix\n",
    "    \n",
    "solution = Solution()\n",
    "solution.longestCommonPrefix(['gowtham', 'gommala', 'god'])\n"
   ]
  },
  {
   "cell_type": "markdown",
   "id": "9df663c2",
   "metadata": {},
   "source": [
    "Length of longest substring. Leetcode #3"
   ]
  },
  {
   "cell_type": "code",
   "execution_count": null,
   "id": "a737d5e3",
   "metadata": {},
   "outputs": [
    {
     "data": {
      "text/plain": [
       "4"
      ]
     },
     "execution_count": 79,
     "metadata": {},
     "output_type": "execute_result"
    }
   ],
   "source": [
    "class Solution:\n",
    "    def lengthOfLongestSubstring(self, s: str) -> int:\n",
    "        l = 0\n",
    "        longest = 0\n",
    "        sett = set()\n",
    "        for r in range(len(s)):\n",
    "            while s[r] in sett:\n",
    "                sett.remove(s[l])\n",
    "                l+=1\n",
    "            sett.add(s[r])\n",
    "            w= (r-l)+1\n",
    "            longest = max(longest, w)\n",
    "        return longest\n",
    "solution = Solution()\n",
    "solution.lengthOfLongestSubstring('racer')"
   ]
  },
  {
   "cell_type": "markdown",
   "id": "d7a1605e",
   "metadata": {},
   "source": [
    "Length of last word. Leetcode #58"
   ]
  },
  {
   "cell_type": "code",
   "execution_count": null,
   "id": "d1c745c3",
   "metadata": {},
   "outputs": [
    {
     "data": {
      "text/plain": [
       "(' God is great    ', 5)"
      ]
     },
     "execution_count": 11,
     "metadata": {},
     "output_type": "execute_result"
    }
   ],
   "source": [
    "class Solution:\n",
    "    def lengthOfLastWord(self, s: str) -> int:\n",
    "        # s = s.strip().split()\n",
    "        return s,len(s.split()[-1])\n",
    "    \n",
    "solution = Solution()\n",
    "solution.lengthOfLastWord(' God is great    ')"
   ]
  },
  {
   "cell_type": "markdown",
   "id": "ce5a29b8",
   "metadata": {},
   "source": [
    "Find the Index of the First Occurrence in a String"
   ]
  },
  {
   "cell_type": "code",
   "execution_count": null,
   "id": "51c60bbc",
   "metadata": {},
   "outputs": [
    {
     "data": {
      "text/plain": [
       "2"
      ]
     },
     "execution_count": 49,
     "metadata": {},
     "output_type": "execute_result"
    }
   ],
   "source": [
    "class Solution:\n",
    "    def strStr(self, haystack: str, needle: str) -> int:\n",
    "        h = len(haystack)\n",
    "        n = len(needle)\n",
    "        for i in range(h):\n",
    "            k = 0\n",
    "            for j in range(i,h):\n",
    "                if haystack[j] == needle[k]:\n",
    "                    k+=1\n",
    "                else:\n",
    "                    break\n",
    "                if k == n:\n",
    "                    return i\n",
    "        return -1\n",
    "        \n",
    "            \n",
    "solution = Solution()\n",
    "solution.strStr(\"coward\", \"w\")"
   ]
  },
  {
   "cell_type": "markdown",
   "id": "2673413d",
   "metadata": {},
   "source": [
    "Revese words in a string"
   ]
  },
  {
   "cell_type": "code",
   "execution_count": null,
   "id": "cf705cf8",
   "metadata": {},
   "outputs": [
    {
     "data": {
      "text/plain": [
       "'World Hello'"
      ]
     },
     "execution_count": 4,
     "metadata": {},
     "output_type": "execute_result"
    }
   ],
   "source": [
    "class Solution:\n",
    "    def reverseWords(self, s: str) -> str:\n",
    "        words = s.split()\n",
    "        words.reverse()\n",
    "        return \" \".join(words)\n",
    "\n",
    "solution = Solution()\n",
    "solution.reverseWords(\"Hello World\")"
   ]
  },
  {
   "cell_type": "markdown",
   "id": "8e45de30",
   "metadata": {},
   "source": [
    "Find missing positive number"
   ]
  },
  {
   "cell_type": "code",
   "execution_count": null,
   "id": "dfb367d3",
   "metadata": {},
   "outputs": [
    {
     "data": {
      "text/plain": [
       "2"
      ]
     },
     "execution_count": 10,
     "metadata": {},
     "output_type": "execute_result"
    }
   ],
   "source": [
    "class Solution:\n",
    "    def firstMissingPositive(self, nums) -> int:\n",
    "        positives = [x for x in nums if x > 0]\n",
    "        if 1 not in positives:\n",
    "            return 1\n",
    "        actual_sum = sum(positives)\n",
    "        expected_sum = sum(y for y in range(1, max(positives)+1))\n",
    "        return expected_sum - actual_sum \n",
    "    \n",
    "solution = Solution()\n",
    "solution.firstMissingPositive([3,4,-1,1])"
   ]
  },
  {
   "cell_type": "markdown",
   "id": "f69ea6a6",
   "metadata": {},
   "source": [
    "Plus one to the array"
   ]
  },
  {
   "cell_type": "code",
   "execution_count": null,
   "id": "6215d851",
   "metadata": {},
   "outputs": [
    {
     "data": {
      "text/plain": [
       "[1, 2, 4, 0]"
      ]
     },
     "execution_count": 25,
     "metadata": {},
     "output_type": "execute_result"
    }
   ],
   "source": [
    "from typing import List\n",
    "\n",
    "class Solution:\n",
    "    def plusOne(self, digits: List[int]) -> List[int]:\n",
    "        dig = int(\"\".join(map(str, digits)))\n",
    "        fin = dig+1\n",
    "        return [int(x) for x in str(fin)]\n",
    "solution = Solution()\n",
    "solution.plusOne([1,2,3,9])"
   ]
  },
  {
   "cell_type": "code",
   "execution_count": null,
   "id": "99530676",
   "metadata": {},
   "outputs": [
    {
     "name": "stdout",
     "output_type": "stream",
     "text": [
      "[[1, 2, 3], [4, 5, 6], [7, 8, 9]]\n"
     ]
    }
   ],
   "source": [
    "arr= [[],[],[]]\n",
    "num = 1\n",
    "for i in range(3):\n",
    "    for j in range(3):\n",
    "        arr[i].append(num)\n",
    "        num+=1\n",
    "print(arr)\n",
    "        "
   ]
  },
  {
   "cell_type": "code",
   "execution_count": null,
   "id": "3c29f0a9",
   "metadata": {},
   "outputs": [],
   "source": [
    "from typing import List\n",
    "class Solution:\n",
    "    def moveZeroes(self, nums: List[int]) -> None:\n",
    "        pos = 0\n",
    "        for i in range(len(nums)):\n",
    "            if nums[i] != 0:\n",
    "                nums[pos],nums[i] = nums[i],nums[pos]\n",
    "                pos+=1\n",
    "        return nums"
   ]
  },
  {
   "cell_type": "code",
   "execution_count": null,
   "id": "2f2f14a2",
   "metadata": {},
   "outputs": [],
   "source": []
  },
  {
   "cell_type": "markdown",
   "id": "5d345392",
   "metadata": {},
   "source": [
    "Leetcode #209"
   ]
  },
  {
   "cell_type": "code",
   "execution_count": null,
   "id": "40365bbf",
   "metadata": {},
   "outputs": [],
   "source": [
    "from typing import List\n",
    "\n",
    "class Solution:\n",
    "    def minSubArrayLen(self, target: int, nums: List[int]) -> int:\n",
    "        l = 0\n",
    "        minimum = float(\"inf\")\n",
    "        sum = 0\n",
    "        for r in range(len(nums)):\n",
    "            sum += nums[r]\n",
    "            while sum >= target:\n",
    "                minimum = min(minimum, r-l+1)\n",
    "                sum -= nums[l]\n",
    "                l+=1\n",
    "        return minimum if minimum == float(\"inf\") else 0\n"
   ]
  },
  {
   "cell_type": "markdown",
   "id": "8933c948",
   "metadata": {},
   "source": [
    "Leetcode #69"
   ]
  },
  {
   "cell_type": "code",
   "execution_count": null,
   "id": "bb7063f9",
   "metadata": {},
   "outputs": [
    {
     "data": {
      "text/plain": [
       "3"
      ]
     },
     "execution_count": 12,
     "metadata": {},
     "output_type": "execute_result"
    }
   ],
   "source": [
    "class Solution:\n",
    "    def mySqrt(self, x: int) -> int:\n",
    "        r = x\n",
    "        while r*r > x:\n",
    "            r = (r+x//r)//2\n",
    "        return r\n",
    "solution = Solution()\n",
    "solution.mySqrt(9)\n"
   ]
  },
  {
   "cell_type": "markdown",
   "id": "b0afab59",
   "metadata": {},
   "source": [
    "Fizz Buzz. Leetcode #412"
   ]
  },
  {
   "cell_type": "code",
   "execution_count": 2,
   "id": "845899eb",
   "metadata": {},
   "outputs": [],
   "source": [
    "from typing import List\n",
    "\n",
    "class Solution:\n",
    "    def fizzBuzz(self, n: int) -> List[str]:\n",
    "        return [\n",
    "            \"FizzBuzz\" if i % 3 == 0 and i % 5 == 0\n",
    "            else \"Fizz\" if i % 3 == 0\n",
    "            else \"Buzz\" if i % 5 == 0\n",
    "            else str(i)\n",
    "            for i in range(1, n + 1)\n",
    "        ]"
   ]
  },
  {
   "cell_type": "code",
   "execution_count": null,
   "id": "7ad3fd2c",
   "metadata": {},
   "outputs": [],
   "source": []
  }
 ],
 "metadata": {
  "kernelspec": {
   "display_name": "Python 3",
   "language": "python",
   "name": "python3"
  },
  "language_info": {
   "codemirror_mode": {
    "name": "ipython",
    "version": 3
   },
   "file_extension": ".py",
   "mimetype": "text/x-python",
   "name": "python",
   "nbconvert_exporter": "python",
   "pygments_lexer": "ipython3",
   "version": "3.13.7"
  }
 },
 "nbformat": 4,
 "nbformat_minor": 5
}
